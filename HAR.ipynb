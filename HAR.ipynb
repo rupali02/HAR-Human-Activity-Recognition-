{
 "cells": [
  {
   "cell_type": "code",
   "execution_count": 77,
   "metadata": {},
   "outputs": [],
   "source": [
    "from numpy import mean\n",
    "from numpy import std\n",
    "from numpy import dstack\n",
    "from pandas import read_csv\n",
    "from keras.models import Sequential\n",
    "from keras.layers import Dense\n",
    "from keras.layers import Flatten\n",
    "from keras.layers import Dropout\n",
    "from keras.layers import LSTM\n",
    "from keras.utils import to_categorical\n",
    "from matplotlib import pyplot\n",
    "import numpy as np\n",
    "import pandas as pd"
   ]
  },
  {
   "cell_type": "code",
   "execution_count": 78,
   "metadata": {},
   "outputs": [],
   "source": [
    "df1=np.transpose(pd.read_csv(\"HARDataset\\\\train\\\\Inertial Signals\\\\body_acc_x_train.txt\",delim_whitespace=True))\n",
    "df2=np.transpose(pd.read_csv(\"HARDataset\\\\train\\\\Inertial Signals\\\\body_acc_y_train.txt\",delim_whitespace=True))\n",
    "df3=np.transpose(pd.read_csv(\"HARDataset\\\\train\\\\Inertial Signals\\\\body_acc_z_train.txt\",delim_whitespace=True))\n",
    "df4=np.transpose(pd.read_csv(\"HARDataset\\\\train\\\\Inertial Signals\\\\body_gyro_x_train.txt\",delim_whitespace=True))\n",
    "df5=np.transpose(pd.read_csv(\"HARDataset\\\\train\\\\Inertial Signals\\\\body_gyro_y_train.txt\",delim_whitespace=True))\n",
    "df6=np.transpose(pd.read_csv(\"HARDataset\\\\train\\\\Inertial Signals\\\\body_gyro_x_train.txt\",delim_whitespace=True))\n",
    "df7=np.transpose(pd.read_csv(\"HARDataset\\\\train\\\\Inertial Signals\\\\total_acc_x_train.txt\",delim_whitespace=True))\n",
    "df8=np.transpose(pd.read_csv(\"HARDataset\\\\train\\\\Inertial Signals\\\\total_acc_y_train.txt\",delim_whitespace=True))\n",
    "df9=np.transpose(pd.read_csv(\"HARDataset\\\\train\\\\Inertial Signals\\\\total_acc_z_train.txt\",delim_whitespace=True))"
   ]
  },
  {
   "cell_type": "code",
   "execution_count": 79,
   "metadata": {},
   "outputs": [],
   "source": [
    "y=pd.read_csv(\"HARDataset\\\\train\\\\y_train.txt\",delim_whitespace=True)\n",
    "train_y=pd.get_dummies(y,columns=[\"5\"])\n"
   ]
  },
  {
   "cell_type": "code",
   "execution_count": 80,
   "metadata": {},
   "outputs": [
    {
     "data": {
      "text/plain": [
       "(7351, 128, 9)"
      ]
     },
     "execution_count": 80,
     "metadata": {},
     "output_type": "execute_result"
    }
   ],
   "source": [
    "df=[df1,df2,df3,df4,df5,df6,df7,df8,df9]\n",
    "train_x=np.transpose(df)\n",
    "np.shape(train_x)"
   ]
  },
  {
   "cell_type": "code",
   "execution_count": 81,
   "metadata": {},
   "outputs": [],
   "source": [
    "tf1=np.transpose(pd.read_csv(\"HARDataset\\\\test\\\\Inertial Signals\\\\body_acc_x_test.txt\",delim_whitespace=True))\n",
    "tf2=np.transpose(pd.read_csv(\"HARDataset\\\\test\\\\Inertial Signals\\\\body_acc_y_test.txt\",delim_whitespace=True))\n",
    "tf3=np.transpose(pd.read_csv(\"HARDataset\\\\test\\\\Inertial Signals\\\\body_acc_z_test.txt\",delim_whitespace=True))\n",
    "tf4=np.transpose(pd.read_csv(\"HARDataset\\\\test\\\\Inertial Signals\\\\body_gyro_x_test.txt\",delim_whitespace=True))\n",
    "tf5=np.transpose(pd.read_csv(\"HARDataset\\\\test\\\\Inertial Signals\\\\body_gyro_y_test.txt\",delim_whitespace=True))\n",
    "tf6=np.transpose(pd.read_csv(\"HARDataset\\\\test\\\\Inertial Signals\\\\body_gyro_x_test.txt\",delim_whitespace=True))\n",
    "tf7=np.transpose(pd.read_csv(\"HARDataset\\\\test\\\\Inertial Signals\\\\total_acc_x_test.txt\",delim_whitespace=True))\n",
    "tf8=np.transpose(pd.read_csv(\"HARDataset\\\\test\\\\Inertial Signals\\\\total_acc_y_test.txt\",delim_whitespace=True))\n",
    "tf9=np.transpose(pd.read_csv(\"HARDataset\\\\test\\\\Inertial Signals\\\\total_acc_z_test.txt\",delim_whitespace=True))"
   ]
  },
  {
   "cell_type": "code",
   "execution_count": 82,
   "metadata": {},
   "outputs": [],
   "source": [
    "y=pd.read_csv(\"HARDataset\\\\test\\\\y_test.txt\",delim_whitespace=True)\n",
    "test_y=pd.get_dummies(y,columns=[\"5\"])"
   ]
  },
  {
   "cell_type": "code",
   "execution_count": 83,
   "metadata": {},
   "outputs": [
    {
     "data": {
      "text/plain": [
       "(2946, 128, 9)"
      ]
     },
     "execution_count": 83,
     "metadata": {},
     "output_type": "execute_result"
    }
   ],
   "source": [
    "tf=[tf1,tf2,tf3,tf4,tf5,tf6,tf7,tf8,tf9]\n",
    "test_x=np.transpose(tf)\n",
    "np.shape(test_x)"
   ]
  },
  {
   "cell_type": "code",
   "execution_count": 87,
   "metadata": {},
   "outputs": [
    {
     "data": {
      "text/plain": [
       "9"
      ]
     },
     "execution_count": 87,
     "metadata": {},
     "output_type": "execute_result"
    }
   ],
   "source": [
    "test_x.shape[2]"
   ]
  },
  {
   "cell_type": "code",
   "execution_count": 93,
   "metadata": {},
   "outputs": [],
   "source": [
    "model = Sequential()\n",
    "model.add(LSTM(100, input_shape=(128,9)))\n",
    "model.add(Dropout(0.5))\n",
    "model.add(Dense(100, activation='relu'))\n",
    "model.add(Dense(6, activation='softmax'))\n",
    "model.compile(loss='categorical_crossentropy', optimizer='adam', metrics=['accuracy'])"
   ]
  },
  {
   "cell_type": "code",
   "execution_count": 94,
   "metadata": {},
   "outputs": [
    {
     "name": "stdout",
     "output_type": "stream",
     "text": [
      "Epoch 1/10\n",
      "230/230 [==============================] - 25s 98ms/step - loss: 1.2458 - accuracy: 0.4868\n",
      "Epoch 2/10\n",
      "230/230 [==============================] - 23s 100ms/step - loss: 0.7165 - accuracy: 0.6734\n",
      "Epoch 3/10\n",
      "230/230 [==============================] - 24s 103ms/step - loss: 0.5302 - accuracy: 0.7927\n",
      "Epoch 4/10\n",
      "230/230 [==============================] - 23s 99ms/step - loss: 0.4262 - accuracy: 0.8401\n",
      "Epoch 5/10\n",
      "230/230 [==============================] - 22s 97ms/step - loss: 0.2923 - accuracy: 0.9068\n",
      "Epoch 6/10\n",
      "230/230 [==============================] - 22s 96ms/step - loss: 0.2208 - accuracy: 0.9251\n",
      "Epoch 7/10\n",
      "230/230 [==============================] - 22s 96ms/step - loss: 0.1959 - accuracy: 0.9249\n",
      "Epoch 8/10\n",
      "230/230 [==============================] - 22s 97ms/step - loss: 0.1915 - accuracy: 0.9284\n",
      "Epoch 9/10\n",
      "230/230 [==============================] - 23s 102ms/step - loss: 0.1508 - accuracy: 0.9396\n",
      "Epoch 10/10\n",
      "230/230 [==============================] - 23s 101ms/step - loss: 0.1512 - accuracy: 0.9416\n"
     ]
    },
    {
     "data": {
      "text/plain": [
       "<tensorflow.python.keras.callbacks.History at 0x24b319f4088>"
      ]
     },
     "execution_count": 94,
     "metadata": {},
     "output_type": "execute_result"
    }
   ],
   "source": [
    "model.fit(train_x,train_y,epochs=10)"
   ]
  },
  {
   "cell_type": "code",
   "execution_count": 98,
   "metadata": {},
   "outputs": [],
   "source": [
    "p=model.predict(test_x)"
   ]
  },
  {
   "cell_type": "code",
   "execution_count": 99,
   "metadata": {},
   "outputs": [
    {
     "data": {
      "text/plain": [
       "array([[447,  33,  16,   0,   0,   0],\n",
       "       [ 20, 451,   0,   0,   0,   0],\n",
       "       [  1,  15, 403,   0,   1,   0],\n",
       "       [  0,   3,   0, 374, 112,   2],\n",
       "       [  0,   2,   0,  83, 446,   0],\n",
       "       [  0,   0,   0,   0,   0, 537]], dtype=int64)"
      ]
     },
     "execution_count": 99,
     "metadata": {},
     "output_type": "execute_result"
    }
   ],
   "source": [
    "from sklearn.metrics import confusion_matrix\n",
    "test=test_y.values\n",
    "true=test.argmax(axis=1)\n",
    "pred=p.argmax(axis=1)\n",
    "confusion_matrix(true,pred)"
   ]
  },
  {
   "cell_type": "code",
   "execution_count": null,
   "metadata": {},
   "outputs": [],
   "source": []
  }
 ],
 "metadata": {
  "kernelspec": {
   "display_name": "Python 3",
   "language": "python",
   "name": "python3"
  },
  "language_info": {
   "codemirror_mode": {
    "name": "ipython",
    "version": 3
   },
   "file_extension": ".py",
   "mimetype": "text/x-python",
   "name": "python",
   "nbconvert_exporter": "python",
   "pygments_lexer": "ipython3",
   "version": "3.7.4"
  }
 },
 "nbformat": 4,
 "nbformat_minor": 2
}
